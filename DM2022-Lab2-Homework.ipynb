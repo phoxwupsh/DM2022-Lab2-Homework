{
 "cells": [
  {
   "cell_type": "markdown",
   "metadata": {},
   "source": [
    "### Student Information\n",
    "Name: 余思賢\n",
    "\n",
    "Student ID: 110065526\n",
    "\n",
    "GitHub ID: phoxwupsh\n",
    "\n",
    "Kaggle name: Fia Phoxwupsh\n",
    "\n",
    "Kaggle private scoreboard snapshot: ![leadboard-private](pics/leadboard-private.png)\n",
    "\n",
    "[Snapshot](img/pic0.png)"
   ]
  },
  {
   "cell_type": "markdown",
   "metadata": {},
   "source": [
    "---"
   ]
  },
  {
   "cell_type": "markdown",
   "metadata": {},
   "source": [
    "### Instructions"
   ]
  },
  {
   "cell_type": "markdown",
   "metadata": {},
   "source": [
    "1. First: __This part is worth 30% of your grade.__ Do the **take home** exercises in the [DM2022-Lab2-master Repo](https://github.com/keziatamus/DM2022-Lab2-Master). You may need to copy some cells from the Lab notebook to this notebook. \n",
    "\n",
    "\n",
    "2. Second: __This part is worth 30% of your grade.__ Participate in the in-class [Kaggle Competition](https://www.kaggle.com/competitions/dm2022-isa5810-lab2-homework) regarding Emotion Recognition on Twitter by this link https://www.kaggle.com/t/2b0d14a829f340bc88d2660dc602d4bd. The scoring will be given according to your place in the Private Leaderboard ranking: \n",
    "    - **Bottom 40%**: Get 20% of the 30% available for this section.\n",
    "\n",
    "    - **Top 41% - 100%**: Get (60-x)/6 + 20 points, where x is your ranking in the leaderboard (ie. If you rank 3rd your score will be (60-3)/6 + 20 = 29.5% out of 30%)   \n",
    "    Submit your last submission __BEFORE the deadline (Nov. 22th 11:59 pm, Tuesday)_. Make sure to take a screenshot of your position at the end of the competition and store it as '''pic0.png''' under the **img** folder of this repository and rerun the cell **Student Information**.\n",
    "    \n",
    "\n",
    "3. Third: __This part is worth 30% of your grade.__ A report of your work developping the model for the competition (You can use code and comment it). This report should include what your preprocessing steps, the feature engineering steps and an explanation of your model. You can also mention different things you tried and insights you gained. \n",
    "\n",
    "\n",
    "4. Fourth: __This part is worth 10% of your grade.__ It's hard for us to follow if your code is messy :'(, so please **tidy up your notebook** and **add minimal comments where needed**.\n",
    "\n",
    "\n",
    "Upload your files to your repository then submit the link to it on the corresponding e-learn assignment.\n",
    "\n",
    "Make sure to commit and save your changes to your repository __BEFORE the deadline (Nov. 25th 11:59 pm, Friday)__. "
   ]
  },
  {
   "cell_type": "code",
   "execution_count": 2,
   "metadata": {},
   "outputs": [],
   "source": [
    "### Begin Assignment Here"
   ]
  },
  {
   "cell_type": "markdown",
   "metadata": {},
   "source": [
    "For the first part, I write my homework in the file [DM2022-Lab2-Master.ipynb](DM2022-Lab2-Master.ipynb),\n",
    "you can find the file in the root folder of the git repo."
   ]
  },
  {
   "cell_type": "markdown",
   "metadata": {},
   "source": [
    "For the second part, my kaggle user name is ```Fia Phoxwupsh```, and I have submit 4 predictions.\n",
    "The final result is that I got #12 in the public leadboard and #13 in the private leadboard.\n",
    "Below is my screenshot of the leadboard:\n",
    "![leadboard-public](pics/leadboard-public.png)\n",
    "![leadboard-private](pics/leadboard-private.png)"
   ]
  },
  {
   "cell_type": "markdown",
   "metadata": {},
   "source": [
    "For the third part, my code for the kaggle competition is the file [kaggle-competition.ipynb](kaggle/kaggle-competition.ipynb), I wrote comments for the code.\n",
    "Below is the progress of the development of my model:\n",
    "\n",
    "First I tried to use TDIDF and Naive Bayes classifier, but the accuracy of prediction is low.\n",
    "Thus, I switch to BERT model, which had been introduced in our class session before.\n",
    "The prediction accuracy improved significantly with the BERT model.\n",
    "\n",
    "My GPU is NVIDIA RTX 2060, which has only 6GB of VRAM, and is not a high-end CPU, so it take lots of time to train models and could run out of VRAM.\n",
    "To solve this problem, I use the _dynamic padding_ method to speed up, \n",
    "and use _gradient accumulation_ method  to solve the VRAM problem.\n",
    "\n",
    "The issue that I haven't figured out is the emojis in the tweet.\n",
    "There are some emojis in the tweet, like 😂 or 😎, which couldn't be recognized by BERT.\n",
    "I think that there would be some conversion between emojis and English words, but unfortunately I haven't found out.\n",
    "\n",
    "References:  \n",
    "[huggingface official course](https://huggingface.co/course/chapter1/1)  \n",
    "[huggingface transformers guide](https://zhuanlan.zhihu.com/p/363670628)  \n",
    "[dynamic padding](https://zhuanlan.zhihu.com/p/414552021)  \n",
    "[gradient accumulation](https://blog.csdn.net/weixin_43643246/article/details/107785089)  "
   ]
  }
 ],
 "metadata": {
  "kernelspec": {
   "display_name": "Python 3.10.8 64-bit",
   "language": "python",
   "name": "python3"
  },
  "language_info": {
   "codemirror_mode": {
    "name": "ipython",
    "version": 3
   },
   "file_extension": ".py",
   "mimetype": "text/x-python",
   "name": "python",
   "nbconvert_exporter": "python",
   "pygments_lexer": "ipython3",
   "version": "3.10.8"
  },
  "varInspector": {
   "cols": {
    "lenName": 16,
    "lenType": 16,
    "lenVar": 40
   },
   "kernels_config": {
    "python": {
     "delete_cmd_postfix": "",
     "delete_cmd_prefix": "del ",
     "library": "var_list.py",
     "varRefreshCmd": "print(var_dic_list())"
    },
    "r": {
     "delete_cmd_postfix": ") ",
     "delete_cmd_prefix": "rm(",
     "library": "var_list.r",
     "varRefreshCmd": "cat(var_dic_list()) "
    }
   },
   "types_to_exclude": [
    "module",
    "function",
    "builtin_function_or_method",
    "instance",
    "_Feature"
   ],
   "window_display": false
  },
  "vscode": {
   "interpreter": {
    "hash": "05e4a817b8d9aa9a3a93bda41b3687eede24b9d39c293f46ec9d8bdb545aa66e"
   }
  }
 },
 "nbformat": 4,
 "nbformat_minor": 2
}
